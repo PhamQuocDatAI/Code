{
 "cells": [
  {
   "cell_type": "markdown",
   "metadata": {},
   "source": [
    "1. Giải thuật đệ quy\n",
    "    - Tháp Hà Nội\n",
    "    - Ước số chung lớn nhất\n",
    "    - Tính giai thừa của một số\n",
    "    - Bài toán mã đi tuần\n",
    "    - Bài toán 8 quân hậu"
   ]
  },
  {
   "cell_type": "code",
   "execution_count": 1,
   "metadata": {},
   "outputs": [
    {
     "name": "stdout",
     "output_type": "stream",
     "text": [
      "Số tầng của tháp: 5\n",
      "Di chuyển vòng 1 từ nguồn A đến đích B\n",
      "Di chuyển vòng 2 từ nguồn A đến đích C\n",
      "Di chuyển vòng 1 từ nguồn A đến đích C\n",
      "Di chuyển vòng 3 từ nguồn A đến đích B\n",
      "Di chuyển vòng 1 từ nguồn A đến đích C\n",
      "Di chuyển vòng 2 từ nguồn A đến đích B\n",
      "Di chuyển vòng 1 từ nguồn A đến đích B\n",
      "Di chuyển vòng 4 từ nguồn A đến đích C\n",
      "Di chuyển vòng 1 từ nguồn A đến đích C\n",
      "Di chuyển vòng 2 từ nguồn A đến đích B\n",
      "Di chuyển vòng 1 từ nguồn A đến đích B\n",
      "Di chuyển vòng 3 từ nguồn A đến đích C\n",
      "Di chuyển vòng 1 từ nguồn A đến đích B\n",
      "Di chuyển vòng 2 từ nguồn A đến đích C\n",
      "Di chuyển vòng 1 từ nguồn A đến đích C\n",
      "Di chuyển vòng 5 từ nguồn A đến đích B\n",
      "Di chuyển vòng 1 từ nguồn A đến đích C\n",
      "Di chuyển vòng 2 từ nguồn A đến đích B\n",
      "Di chuyển vòng 1 từ nguồn A đến đích B\n",
      "Di chuyển vòng 3 từ nguồn A đến đích C\n",
      "Di chuyển vòng 1 từ nguồn A đến đích B\n",
      "Di chuyển vòng 2 từ nguồn A đến đích C\n",
      "Di chuyển vòng 1 từ nguồn A đến đích C\n",
      "Di chuyển vòng 4 từ nguồn A đến đích B\n",
      "Di chuyển vòng 1 từ nguồn A đến đích B\n",
      "Di chuyển vòng 2 từ nguồn A đến đích C\n",
      "Di chuyển vòng 1 từ nguồn A đến đích C\n",
      "Di chuyển vòng 3 từ nguồn A đến đích B\n",
      "Di chuyển vòng 1 từ nguồn A đến đích C\n",
      "Di chuyển vòng 2 từ nguồn A đến đích B\n",
      "Di chuyển vòng 1 từ nguồn A đến đích B\n"
     ]
    }
   ],
   "source": [
    "# Tháp Hà Nội\n",
    "def THN(n, A, B, C):\n",
    "    if n == 1:\n",
    "        print(\"Di chuyển vòng 1 từ nguồn\", A, \"đến đích\", B)\n",
    "        return \n",
    "    THN(n-1, A, C, B)\n",
    "    print(\"Di chuyển vòng\", n, \"từ nguồn\", A, \"đến đích\", B)\n",
    "    THN(n-1, A, B, C)\n",
    "\n",
    "n = int(input(\"Số tầng của tháp: \"))\n",
    "THN(n, \"A\", \"B\", \"C\")  "
   ]
  },
  {
   "cell_type": "code",
   "execution_count": 5,
   "metadata": {},
   "outputs": [
    {
     "name": "stdout",
     "output_type": "stream",
     "text": [
      "Nhập số nguyên dương a = 7\n",
      "Nhập số nguyên dương b = 21\n",
      "Ước số chung lớn nhất của 7 và 21 là: 7\n"
     ]
    }
   ],
   "source": [
    "# Ước số chung lớn nhất\n",
    "def UCLN(a, b):\n",
    "    if (b == 0):\n",
    "        return a;\n",
    "    return UCLN(b, a % b);\n",
    " \n",
    "a = int(input(\"Nhập số nguyên dương a = \"));\n",
    "b = int(input(\"Nhập số nguyên dương b = \"));\n",
    "#tính USCLN của a và b\n",
    "print(\"Ước chung lớn nhất của\", a, \"và\", b, \"là:\", UCLN(a, b));\n"
   ]
  },
  {
   "cell_type": "code",
   "execution_count": 2,
   "metadata": {},
   "outputs": [
    {
     "name": "stdout",
     "output_type": "stream",
     "text": [
      "Nhập giá trị n: 6\n",
      "720\n"
     ]
    }
   ],
   "source": [
    "# Tính giai thừa của một số\n",
    "def giai_thua(n):\n",
    "    while n < 0:\n",
    "        print(\"Lỗi giá trị n.\")\n",
    "        n = int(input(\"Nhập giá trị n: \"))\n",
    "    if n == 0:\n",
    "        return 1\n",
    "    return n * giai_thua(n-1)\n",
    "\n",
    "n = int(input(\"Nhập giá trị n: \"))\n",
    "print(giai_thua(n))"
   ]
  },
  {
   "cell_type": "code",
   "execution_count": 6,
   "metadata": {},
   "outputs": [],
   "source": [
    "# Bài toán mã đi tuần\n",
    "def isSafe(x,y,board):\n",
    "# kiểm tra xem nước đi có nằm trong bảng hay không.    \n",
    "  if(x >= 0 and y >= 0 and x < n and y < n and board[x][y] == -1): \n",
    "    return True\n",
    "  return False\n",
    "\n",
    "\n",
    "def printSolution(board):\n",
    "#In ra các nước đi\n",
    "  for i in range(n): \n",
    "    for j in range(n): \n",
    "        print(board[i][j],end =' ') \n",
    "    print() \n",
    "    \n",
    "    \n",
    "def solveKT(): \n",
    "    board = [[-1 for i in range(n)]for i in range(n)]   #Tạo ra ma trận 8x8 giống bàn cờ vu\n",
    "    move_x = [2, 1, -1, -2, -2, -1, 1, 2] \n",
    "    move_y = [1, 2, 2, 1, -1, -2, -2, -1] \n",
    "    board[0][0] = 0\n",
    "    pos = 1\n",
    "    if(not solveKTUtil(board, 0, 0, move_x, move_y, pos)): \n",
    "        print(\"Solution does not exist\") \n",
    "    else: \n",
    "        printSolution(board) \n",
    "    \n",
    "    \n",
    "def solveKTUtil(board,curr_x,curr_y,move_x,move_y,pos): \n",
    "    if(pos == n**2): \n",
    "        return True\n",
    "    for i in range(8): \n",
    "        new_x = curr_x + move_x[i] \n",
    "        new_y = curr_y + move_y[i] \n",
    "    if(isSafe(new_x,new_y,board)): \n",
    "        board[new_x][new_y] = pos \n",
    "        if(solveKTUtil(board,new_x,new_y,move_x,move_y,pos+1)): \n",
    "            return True  \n",
    "        board[new_x][new_y] = -1\n",
    "    return False"
   ]
  },
  {
   "cell_type": "code",
   "execution_count": 7,
   "metadata": {},
   "outputs": [
    {
     "name": "stdout",
     "output_type": "stream",
     "text": [
      "0 59 38 33 30 17 8 63 \n",
      "37 34 31 60 9 62 29 16 \n",
      "58 1 36 39 32 27 18 7 \n",
      "35 48 41 26 61 10 15 28 \n",
      "42 57 2 49 40 23 6 19 \n",
      "47 50 45 54 25 20 11 14 \n",
      "56 43 52 3 22 13 24 5 \n",
      "51 46 55 44 53 4 21 12 \n"
     ]
    }
   ],
   "source": [
    "if __name__ == \"__main__\": \n",
    "    n = 8 #8*8=64\n",
    "    solveKT()"
   ]
  },
  {
   "cell_type": "code",
   "execution_count": 8,
   "metadata": {},
   "outputs": [
    {
     "name": "stdout",
     "output_type": "stream",
     "text": [
      "[0, 4, 7, 5, 2, 6, 1, 3]\n",
      "[0, 5, 7, 2, 6, 3, 1, 4]\n",
      "[0, 6, 3, 5, 7, 1, 4, 2]\n",
      "[0, 6, 4, 7, 1, 3, 5, 2]\n",
      "[1, 3, 5, 7, 2, 0, 6, 4]\n",
      "[1, 4, 6, 0, 2, 7, 5, 3]\n",
      "[1, 4, 6, 3, 0, 7, 5, 2]\n",
      "[1, 5, 0, 6, 3, 7, 2, 4]\n",
      "[1, 5, 7, 2, 0, 3, 6, 4]\n",
      "[1, 6, 2, 5, 7, 4, 0, 3]\n",
      "[1, 6, 4, 7, 0, 3, 5, 2]\n",
      "[1, 7, 5, 0, 2, 4, 6, 3]\n",
      "[2, 0, 6, 4, 7, 1, 3, 5]\n",
      "[2, 4, 1, 7, 0, 6, 3, 5]\n",
      "[2, 4, 1, 7, 5, 3, 6, 0]\n",
      "[2, 4, 6, 0, 3, 1, 7, 5]\n",
      "[2, 4, 7, 3, 0, 6, 1, 5]\n",
      "[2, 5, 1, 4, 7, 0, 6, 3]\n",
      "[2, 5, 1, 6, 0, 3, 7, 4]\n",
      "[2, 5, 1, 6, 4, 0, 7, 3]\n",
      "[2, 5, 3, 0, 7, 4, 6, 1]\n",
      "[2, 5, 3, 1, 7, 4, 6, 0]\n",
      "[2, 5, 7, 0, 3, 6, 4, 1]\n",
      "[2, 5, 7, 0, 4, 6, 1, 3]\n",
      "[2, 5, 7, 1, 3, 0, 6, 4]\n",
      "[2, 6, 1, 7, 4, 0, 3, 5]\n",
      "[2, 6, 1, 7, 5, 3, 0, 4]\n",
      "[2, 7, 3, 6, 0, 5, 1, 4]\n",
      "[3, 0, 4, 7, 1, 6, 2, 5]\n",
      "[3, 0, 4, 7, 5, 2, 6, 1]\n",
      "[3, 1, 4, 7, 5, 0, 2, 6]\n",
      "[3, 1, 6, 2, 5, 7, 0, 4]\n",
      "[3, 1, 6, 2, 5, 7, 4, 0]\n",
      "[3, 1, 6, 4, 0, 7, 5, 2]\n",
      "[3, 1, 7, 4, 6, 0, 2, 5]\n",
      "[3, 1, 7, 5, 0, 2, 4, 6]\n",
      "[3, 5, 0, 4, 1, 7, 2, 6]\n",
      "[3, 5, 7, 1, 6, 0, 2, 4]\n",
      "[3, 5, 7, 2, 0, 6, 4, 1]\n",
      "[3, 6, 0, 7, 4, 1, 5, 2]\n",
      "[3, 6, 2, 7, 1, 4, 0, 5]\n",
      "[3, 6, 4, 1, 5, 0, 2, 7]\n",
      "[3, 6, 4, 2, 0, 5, 7, 1]\n",
      "[3, 7, 0, 2, 5, 1, 6, 4]\n",
      "[3, 7, 0, 4, 6, 1, 5, 2]\n",
      "[3, 7, 4, 2, 0, 6, 1, 5]\n",
      "[4, 0, 3, 5, 7, 1, 6, 2]\n",
      "[4, 0, 7, 3, 1, 6, 2, 5]\n",
      "[4, 0, 7, 5, 2, 6, 1, 3]\n",
      "[4, 1, 3, 5, 7, 2, 0, 6]\n",
      "[4, 1, 3, 6, 2, 7, 5, 0]\n",
      "[4, 1, 5, 0, 6, 3, 7, 2]\n",
      "[4, 1, 7, 0, 3, 6, 2, 5]\n",
      "[4, 2, 0, 5, 7, 1, 3, 6]\n",
      "[4, 2, 0, 6, 1, 7, 5, 3]\n",
      "[4, 2, 7, 3, 6, 0, 5, 1]\n",
      "[4, 6, 0, 2, 7, 5, 3, 1]\n",
      "[4, 6, 0, 3, 1, 7, 5, 2]\n",
      "[4, 6, 1, 3, 7, 0, 2, 5]\n",
      "[4, 6, 1, 5, 2, 0, 3, 7]\n",
      "[4, 6, 1, 5, 2, 0, 7, 3]\n",
      "[4, 6, 3, 0, 2, 7, 5, 1]\n",
      "[4, 7, 3, 0, 2, 5, 1, 6]\n",
      "[4, 7, 3, 0, 6, 1, 5, 2]\n",
      "[5, 0, 4, 1, 7, 2, 6, 3]\n",
      "[5, 1, 6, 0, 2, 4, 7, 3]\n",
      "[5, 1, 6, 0, 3, 7, 4, 2]\n",
      "[5, 2, 0, 6, 4, 7, 1, 3]\n",
      "[5, 2, 0, 7, 3, 1, 6, 4]\n",
      "[5, 2, 0, 7, 4, 1, 3, 6]\n",
      "[5, 2, 4, 6, 0, 3, 1, 7]\n",
      "[5, 2, 4, 7, 0, 3, 1, 6]\n",
      "[5, 2, 6, 1, 3, 7, 0, 4]\n",
      "[5, 2, 6, 1, 7, 4, 0, 3]\n",
      "[5, 2, 6, 3, 0, 7, 1, 4]\n",
      "[5, 3, 0, 4, 7, 1, 6, 2]\n",
      "[5, 3, 1, 7, 4, 6, 0, 2]\n",
      "[5, 3, 6, 0, 2, 4, 1, 7]\n",
      "[5, 3, 6, 0, 7, 1, 4, 2]\n",
      "[5, 7, 1, 3, 0, 6, 4, 2]\n",
      "[6, 0, 2, 7, 5, 3, 1, 4]\n",
      "[6, 1, 3, 0, 7, 4, 2, 5]\n",
      "[6, 1, 5, 2, 0, 3, 7, 4]\n",
      "[6, 2, 0, 5, 7, 4, 1, 3]\n",
      "[6, 2, 7, 1, 4, 0, 5, 3]\n",
      "[6, 3, 1, 4, 7, 0, 2, 5]\n",
      "[6, 3, 1, 7, 5, 0, 2, 4]\n",
      "[6, 4, 2, 0, 5, 7, 1, 3]\n",
      "[7, 1, 3, 0, 6, 4, 2, 5]\n",
      "[7, 1, 4, 2, 0, 6, 3, 5]\n",
      "[7, 2, 0, 5, 1, 4, 6, 3]\n",
      "[7, 3, 0, 2, 5, 1, 6, 4]\n"
     ]
    }
   ],
   "source": [
    "# Bài toán 8 quân hậu\n",
    "n = 8\n",
    "a = n*[0]\n",
    "def print_board(b):\n",
    "    l = len(b)\n",
    "    for i in range(l):\n",
    "        for j in range(l):\n",
    "            if j == a[i]:\n",
    "                print(1, end = \" \")\n",
    "            else:\n",
    "                print(0, end = \" \")\n",
    "        print()\n",
    "        \n",
    "def possible(d, c):\n",
    "    for i in range(d):\n",
    "        # if a[i] == y or abs(i - x) == abs(a[i] - y):\n",
    "        if a[i] == c  or c - d == a[i] - i or c + d == a[i] + i:\n",
    "            return False\n",
    "    return True\n",
    "\n",
    "def gen(i, n):\n",
    "    for j in range(n):\n",
    "        if possible(i,j):\n",
    "            a[i] = j\n",
    "            if i == n - 1:\n",
    "                print(a)\n",
    "            gen(i+1, n)\n",
    "gen(0, n)"
   ]
  },
  {
   "cell_type": "markdown",
   "metadata": {},
   "source": [
    "3. Cây\n",
    "    - Cài đặt cây - duyệt cây theo thứ tự trước\n",
    "    - Cài đặt cây - duyệt cây theo thứ tự sau"
   ]
  },
  {
   "cell_type": "code",
   "execution_count": 3,
   "metadata": {},
   "outputs": [],
   "source": [
    "import random \n",
    "\n",
    "class Node:\n",
    "    \n",
    "    \n",
    "    def __init__(self, data):\n",
    "        self.left_child = None\n",
    "        self.right_child = None\n",
    "        self.parent_node = data\n",
    "\n",
    "    def print_tree(self):\n",
    "        if self.left_child:\n",
    "            self.left_child.print_tree()\n",
    "        print(self.parent_node)\n",
    "        if self.right_child:\n",
    "            self.right_child.print_tree()\n",
    "\n",
    "    def insert_number(self, input_number):\n",
    "\n",
    "        if self.parent_node:\n",
    "\n",
    "            if input_number < self.parent_node:\n",
    "                if self.left_child is None:\n",
    "                    self.left_child = Node(input_number)\n",
    "                else:\n",
    "                    self.left_child.insert_number(input_number)\n",
    "\n",
    "            elif input_number > self.parent_node:\n",
    "                if self.right_child is None:\n",
    "                    self.right_child = Node(input_number)\n",
    "                else:\n",
    "                    self.right_child.insert_number(input_number)\n",
    "        else:\n",
    "            self.parent_node = input_number\n",
    "\n",
    "\n",
    "def rd():\n",
    "    return random.randint(-50, 50)"
   ]
  },
  {
   "cell_type": "code",
   "execution_count": 4,
   "metadata": {},
   "outputs": [
    {
     "name": "stdout",
     "output_type": "stream",
     "text": [
      "-28\n",
      "-19\n",
      "-8\n",
      "-4\n",
      "38\n",
      "40\n",
      "45\n"
     ]
    }
   ],
   "source": [
    "root = Node(rd())\n",
    "root.insert_number(rd())\n",
    "root.insert_number(rd())\n",
    "root.insert_number(rd())\n",
    "root.insert_number(rd())\n",
    "root.insert_number(rd())\n",
    "root.insert_number(rd())\n",
    "\n",
    "root.print_tree()"
   ]
  },
  {
   "cell_type": "markdown",
   "metadata": {},
   "source": [
    "5. Sắp xếp và tìm kiếm\n",
    "    - Cài đặt thuật toán sắp xếp chọn\n",
    "    - Cài đặt thuật toán sắp xếp chèn\n",
    "    - Cài đặt thuật toán sắp xếp nổi bọt\n",
    "    - Cài đặt thuật toán sắp xếp nhanh - quick sort\n",
    "    - Cài đặt thuật toán heap sort\n",
    "    - Cài đặt thuật toán sắp xếp trộn - merge sort"
   ]
  },
  {
   "cell_type": "code",
   "execution_count": 2,
   "metadata": {},
   "outputs": [
    {
     "name": "stdout",
     "output_type": "stream",
     "text": [
      "Mảng: [30, 30, -11, -46, 4, 46, -26, 44, -6, -41]\n",
      "--------------------------------------------------\n",
      "Sorted array\n",
      "-46\n",
      "-41\n",
      "-26\n",
      "-11\n",
      "-6\n",
      "4\n",
      "30\n",
      "30\n",
      "44\n",
      "46\n"
     ]
    }
   ],
   "source": [
    "# Select Sort\n",
    "import random \n",
    "\n",
    "\n",
    "A = []\n",
    "for x in range(10):\n",
    "    a = random.randint(-50, 50)\n",
    "    A.append(a)\n",
    "    \n",
    "print('Mảng:',A) \n",
    "print('-'*50)\n",
    "for i in range(len(A)):\n",
    "    min_idx = i\n",
    "    for j in range(i+1, len(A)):\n",
    "        if A[min_idx] > A[j]:\n",
    "            min_idx = j      \n",
    "    A[i], A[min_idx] = A[min_idx], A[i]\n",
    "  \n",
    "\n",
    "print (\"Sorted array\")\n",
    "for i in range(len(A)):\n",
    "    print(\"%d\" %A[i]),"
   ]
  },
  {
   "cell_type": "code",
   "execution_count": null,
   "metadata": {},
   "outputs": [],
   "source": [
    "# "
   ]
  }
 ],
 "metadata": {
  "kernelspec": {
   "display_name": "Python 3",
   "language": "python",
   "name": "python3"
  },
  "language_info": {
   "codemirror_mode": {
    "name": "ipython",
    "version": 3
   },
   "file_extension": ".py",
   "mimetype": "text/x-python",
   "name": "python",
   "nbconvert_exporter": "python",
   "pygments_lexer": "ipython3",
   "version": "3.8.5"
  }
 },
 "nbformat": 4,
 "nbformat_minor": 4
}
