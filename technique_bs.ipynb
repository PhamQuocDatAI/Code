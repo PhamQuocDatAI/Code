{
  "nbformat": 4,
  "nbformat_minor": 0,
  "metadata": {
    "colab": {
      "name": "Untitled1.ipynb",
      "provenance": [],
      "authorship_tag": "ABX9TyNv/bCAaAZzGvF27AcvMXEb",
      "include_colab_link": true
    },
    "kernelspec": {
      "name": "python3",
      "display_name": "Python 3"
    }
  },
  "cells": [
    {
      "cell_type": "markdown",
      "metadata": {
        "id": "view-in-github",
        "colab_type": "text"
      },
      "source": [
        "<a href=\"https://colab.research.google.com/github/PhamQuocDatAI/Code/blob/master/technique_bs.ipynb\" target=\"_parent\"><img src=\"https://colab.research.google.com/assets/colab-badge.svg\" alt=\"Open In Colab\"/></a>"
      ]
    },
    {
      "cell_type": "markdown",
      "metadata": {
        "id": "ICm51SScqu8T"
      },
      "source": [
        "1. Tải url "
      ]
    },
    {
      "cell_type": "code",
      "metadata": {
        "id": "yRd3JJijmn-U"
      },
      "source": [
        "import requests\r\n",
        "\r\n",
        "\r\n",
        "url = requests.get(\"https://vietnamnet.vn/\")\r\n",
        "data = url.text\r\n",
        "print(data)\r\n"
      ],
      "execution_count": null,
      "outputs": []
    },
    {
      "cell_type": "markdown",
      "metadata": {
        "id": "bW5M_9Zaqz8S"
      },
      "source": [
        "2. Lưu 1 html về mục chỉ định"
      ]
    },
    {
      "cell_type": "code",
      "metadata": {
        "id": "orfhxyMLvU_B"
      },
      "source": [
        ""
      ],
      "execution_count": null,
      "outputs": []
    },
    {
      "cell_type": "markdown",
      "metadata": {
        "id": "KC7YF0EYq4yy"
      },
      "source": [
        "3. Cách lấy 1 phần tử đầu tiên ra khỏi list và xóa nó"
      ]
    },
    {
      "cell_type": "markdown",
      "metadata": {
        "id": "uLOqxPAErBlq"
      },
      "source": [
        "4. Cách lấy url trong html mới\r\n"
      ]
    }
  ]
}