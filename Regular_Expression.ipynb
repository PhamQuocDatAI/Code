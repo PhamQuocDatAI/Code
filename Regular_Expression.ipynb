{
  "nbformat": 4,
  "nbformat_minor": 0,
  "metadata": {
    "colab": {
      "name": "Regular Expression.ipynb",
      "provenance": [],
      "authorship_tag": "ABX9TyNPJgA57xFY695apr0T6XUe",
      "include_colab_link": true
    },
    "kernelspec": {
      "name": "python3",
      "display_name": "Python 3"
    }
  },
  "cells": [
    {
      "cell_type": "markdown",
      "metadata": {
        "id": "view-in-github",
        "colab_type": "text"
      },
      "source": [
        "<a href=\"https://colab.research.google.com/github/PhamQuocDatAI/Code/blob/master/Regular_Expression.ipynb\" target=\"_parent\"><img src=\"https://colab.research.google.com/assets/colab-badge.svg\" alt=\"Open In Colab\"/></a>"
      ]
    },
    {
      "cell_type": "code",
      "metadata": {
        "colab": {
          "base_uri": "https://localhost:8080/"
        },
        "id": "LOPAs8ojjfKi",
        "outputId": "3a887135-79f3-4e2c-bda6-5dac8dc8c829"
      },
      "source": [
        "import re\r\n",
        "\r\n",
        "linkpage = [ \"vietnamnet.vn/\",\r\n",
        "             \"https://vnexpress.net/\",\r\n",
        "             \"vietnamnet.vn/vn/su-kien/bau-cu-tong-thong-my-2020-672524\",\r\n",
        "             \"https://vietnamnet.vn/vn/su-kien/dich-covid-19-tai-viet-nam-695488.html\", \r\n",
        "             \"https://vietnamnet.vn/vn/su-kien/toan-canh-cuoc-khung-hoang-tren-doi-capitol-703543\"]\r\n",
        "\r\n",
        "lich_su1 = []\r\n",
        "lich_su2 = []\r\n",
        "\r\n",
        "for index, y in enumerate(linkpage):\r\n",
        "  test1 = re.search(r'^https://', y)\r\n",
        "  test2 = re.search(r'.html$', y)\r\n",
        "  if test1:\r\n",
        "    #print(index, \"--next\")\r\n",
        "  \r\n",
        "    if test2:\r\n",
        "      #print(index, \"--Ok\")\r\n",
        "      lich_su1.append(y)\r\n",
        "    else:\r\n",
        "      #print(index, \"--Thieu .html\")\r\n",
        "      y = y + \".html\"\r\n",
        "      lich_su1.append(y)\r\n",
        "  else:\r\n",
        "    #print(index, \"--Thieu https://\")\r\n",
        "    y = \"https://\" + y\r\n",
        "    lich_su1.append(y)\r\n",
        "print(\"lich su 1\", lich_su1)\r\n",
        "print(\"-\"*300)\r\n",
        "for index, x in enumerate(lich_su1):\r\n",
        "    test2 = re.search(r'.html$', y)\r\n",
        "    if test2:\r\n",
        "        #print(\"next\")\r\n",
        "        lich_su2.append(x)\r\n",
        "    else:\r\n",
        "        x = x + \".html\"\r\n",
        "print(\"lich su 2\", lich_su2)\r\n"
      ],
      "execution_count": 106,
      "outputs": [
        {
          "output_type": "stream",
          "text": [
            "lich su 1 ['https://vietnamnet.vn/', 'https://vnexpress.net/.html', 'https://vietnamnet.vn/vn/su-kien/bau-cu-tong-thong-my-2020-672524', 'https://vietnamnet.vn/vn/su-kien/dich-covid-19-tai-viet-nam-695488.html', 'https://vietnamnet.vn/vn/su-kien/toan-canh-cuoc-khung-hoang-tren-doi-capitol-703543.html']\n",
            "------------------------------------------------------------------------------------------------------------------------------------------------------------------------------------------------------------------------------------------------------------------------------------------------------------\n",
            "lich su 2 ['https://vietnamnet.vn/', 'https://vnexpress.net/.html', 'https://vietnamnet.vn/vn/su-kien/bau-cu-tong-thong-my-2020-672524', 'https://vietnamnet.vn/vn/su-kien/dich-covid-19-tai-viet-nam-695488.html', 'https://vietnamnet.vn/vn/su-kien/toan-canh-cuoc-khung-hoang-tren-doi-capitol-703543.html']\n"
          ],
          "name": "stdout"
        }
      ]
    }
  ]
}