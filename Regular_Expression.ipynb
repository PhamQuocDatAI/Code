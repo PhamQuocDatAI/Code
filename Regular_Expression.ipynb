{
  "nbformat": 4,
  "nbformat_minor": 0,
  "metadata": {
    "colab": {
      "name": "Regular Expression.ipynb",
      "provenance": [],
      "authorship_tag": "ABX9TyPaIkcU6ZQT/QymCzM1SyM4",
      "include_colab_link": true
    },
    "kernelspec": {
      "name": "python3",
      "display_name": "Python 3"
    }
  },
  "cells": [
    {
      "cell_type": "markdown",
      "metadata": {
        "id": "view-in-github",
        "colab_type": "text"
      },
      "source": [
        "<a href=\"https://colab.research.google.com/github/PhamQuocDatAI/Code/blob/master/Regular_Expression.ipynb\" target=\"_parent\"><img src=\"https://colab.research.google.com/assets/colab-badge.svg\" alt=\"Open In Colab\"/></a>"
      ]
    },
    {
      "cell_type": "code",
      "metadata": {
        "colab": {
          "base_uri": "https://localhost:8080/"
        },
        "id": "pEdbBiSoXjbe",
        "outputId": "16150ce4-2075-454f-d02a-6f641944b6ce"
      },
      "source": [
        "import re\r\n",
        "\r\n",
        "link_page = [\"https://vietnamnet.vn/\", \"https://vietnamnet.vn/vn/su-kien/toan-canh-cuoc-khung-hoang-tren-doi-capitol-703543.html\",\r\n",
        "             \"https://vnexpress.net/\", \"https://vnexpress.net/ly-do-tong-thong-my-nham-chuc-ngay-20-1-4221352\"]\r\n",
        "\r\n",
        "\r\n",
        "for x in link_page:\r\n",
        "    match = re.search(r'^https://(.*).html', x)\r\n",
        "    if match: #nếu tồn tại chuỗi khớp                     \r\n",
        "        print (match.groups()) # in ra chuỗi đó\r\n",
        "    else:\r\n",
        "        print ('Khong tim thay!') # Không thì hiện thông báo\r\n",
        "\r\n",
        "# Code này duyệt qua các link có cấu trúc https://****.html \r\n",
        "# Nếu đường link thỏa mãn cấu trúc trên nó sẽ in phần giữa trong https://----.html \r\n"
      ],
      "execution_count": 13,
      "outputs": [
        {
          "output_type": "stream",
          "text": [
            "Khong tim thay!\n",
            "('vietnamnet.vn/vn/su-kien/toan-canh-cuoc-khung-hoang-tren-doi-capitol-703543',)\n",
            "Khong tim thay!\n",
            "Khong tim thay!\n"
          ],
          "name": "stdout"
        }
      ]
    }
  ]
}