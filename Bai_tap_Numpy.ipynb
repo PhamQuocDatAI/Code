{
  "nbformat": 4,
  "nbformat_minor": 0,
  "metadata": {
    "colab": {
      "name": "Bai_tap_Numpy.ipynb",
      "provenance": [],
      "authorship_tag": "ABX9TyPTlopZlzdrZvhLfXOAo4ug",
      "include_colab_link": true
    },
    "kernelspec": {
      "name": "python3",
      "display_name": "Python 3"
    }
  },
  "cells": [
    {
      "cell_type": "markdown",
      "metadata": {
        "id": "view-in-github",
        "colab_type": "text"
      },
      "source": [
        "<a href=\"https://colab.research.google.com/github/PhamQuocDatAI/Code/blob/master/Bai_tap_Numpy.ipynb\" target=\"_parent\"><img src=\"https://colab.research.google.com/assets/colab-badge.svg\" alt=\"Open In Colab\"/></a>"
      ]
    },
    {
      "cell_type": "code",
      "metadata": {
        "id": "lrSUfg_WgMeq"
      },
      "source": [
        "import numpy as np\r\n",
        "\r\n",
        "# Tạo ma trận A kích thước tùy ý\r\n",
        "print(\"Tạo ma trận A có: \")\r\n",
        "row = int(input(\"Số hàng: \"))\r\n",
        "column = int(input(\"Số cột: \"))\r\n",
        "A = np.zeros((row, column), dtype = int)\r\n",
        "for x in range(row):\r\n",
        "    for y in range(column):\r\n",
        "        print(\"Nhập giá trị cho ô [\", x + 1,\"][\", y + 1,\"] là: \")\r\n",
        "        A[x][y] = int(input())\r\n",
        "print(A)\r\n",
        "print(\"Ma trận chuyển vị của\", A,\" là:\")\r\n",
        "print(np.transpose(A))\r\n",
        "\r\n",
        "# Tạo ma trận B\r\n",
        "print(\"Tạo ma trận B có: \")\r\n",
        "row = int(input(\"Số hàng: \"))\r\n",
        "column = int(input(\"Số cột: \"))\r\n",
        "B = np.zeros((row, column), dtype = int)\r\n",
        "for x in range(row):\r\n",
        "    for y in range(column):\r\n",
        "        print(\"Nhập giá trị cho ô [\", x + 1,\"][\", y + 1,\"] là: \")\r\n",
        "        B[x][y] = int(input())\r\n",
        "print(B)\r\n",
        "\r\n",
        "# Tính A.B và xử lí lỗi\r\n",
        "try:\r\n",
        "    print(A@B)\r\n",
        "    print(\"Successful\")\r\n",
        "except:\r\n",
        "    print(\"Lỗi kích thước ở ma trận B. Vui lòng nhập đúng kích thước. \")\r\n",
        "    for x in A.shape:\r\n",
        "        pass\r\n",
        "    print(\"Ma trận A có kích thước \", A.shape,\" ma trận B phải có kích thước (\", x,\"* x )\" )\r\n",
        "    print(\"Tạo ma trận B có: \")\r\n",
        "    row = int(input(\"Số hàng: \"))\r\n",
        "    column = int(input(\"Số cột: \"))\r\n",
        "    B = np.zeros((row, column), dtype = int)\r\n",
        "    for x in range(row):\r\n",
        "        for y in range(column):\r\n",
        "            print(\"Nhập giá trị cho ô [\", x + 1,\"][\", y + 1,\"] là: \")\r\n",
        "            B[x][y] = int(input())"
      ],
      "execution_count": null,
      "outputs": []
    },
    {
      "cell_type": "code",
      "metadata": {
        "id": "jI1cu4SpjZ6O"
      },
      "source": [
        "import numpy as np\r\n",
        "import random \r\n",
        "\r\n",
        "\r\n",
        "# Tạo ma trận ngẫu nhiên\r\n",
        "def matrix(m, n):\r\n",
        "    matrix = np.random.randint(-10, 10, size = (m, n), dtype = int)\r\n",
        "    return matrix\r\n",
        "\r\n",
        "# Tìm ma trận nghịch đảo và xử lí lỗi\r\n",
        "def kha_nghich(matrix):\r\n",
        "    try:\r\n",
        "        kha_nghich =np.linalg.inv(matrix)\r\n",
        "        return kha_nghich\r\n",
        "    except:\r\n",
        "        print(\"Ma trận ko vuông\")\r\n",
        "        \r\n",
        "\r\n",
        "\r\n",
        "A = matrix(3, 4)\r\n",
        "print(A)\r\n",
        "print(kha_nghich(A))"
      ],
      "execution_count": null,
      "outputs": []
    }
  ]
}