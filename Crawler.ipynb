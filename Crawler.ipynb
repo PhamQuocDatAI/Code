{
  "nbformat": 4,
  "nbformat_minor": 0,
  "metadata": {
    "colab": {
      "name": "Crawler.ipynb",
      "provenance": [],
      "collapsed_sections": [],
      "authorship_tag": "ABX9TyP2RHe0GlX3MPZGkiag42py",
      "include_colab_link": true
    },
    "kernelspec": {
      "display_name": "Python 3",
      "name": "python3"
    }
  },
  "cells": [
    {
      "cell_type": "markdown",
      "metadata": {
        "id": "view-in-github",
        "colab_type": "text"
      },
      "source": [
        "<a href=\"https://colab.research.google.com/github/PhamQuocDatAI/Code/blob/master/Crawler.ipynb\" target=\"_parent\"><img src=\"https://colab.research.google.com/assets/colab-badge.svg\" alt=\"Open In Colab\"/></a>"
      ]
    },
    {
      "cell_type": "code",
      "metadata": {
        "id": "KrdHeUm8MQeb"
      },
      "source": [
        "import requests\r\n",
        "from bs4 import BeautifulSoup\r\n",
        "import re\r\n",
        "\r\n",
        "\r\n",
        "url = \"https://vietnamnet.vn\"\r\n",
        "\r\n",
        "def doc_noi_dung(url):\r\n",
        "    raw_page = requests.get(url)\r\n",
        "    content = BeautifulSoup(raw_page.text, \"html.parser\")\r\n",
        "    return content\r\n",
        "\r\n",
        "doc_noi_dung(url)"
      ],
      "execution_count": null,
      "outputs": []
    },
    {
      "cell_type": "code",
      "metadata": {
        "id": "SfH8tOmDMj1k"
      },
      "source": [
        "def link_page(content):\r\n",
        "    a_tags = content.find_all(\"a\")\r\n",
        "    result = []\r\n",
        "    for item in a_tags:\r\n",
        "        link = item.get(\"href\")\r\n",
        "        result.append(link)\r\n",
        "    return result\r\n",
        "\r\n",
        "link_page(content)\r\n"
      ],
      "execution_count": null,
      "outputs": []
    },
    {
      "cell_type": "code",
      "metadata": {
        "id": "xrzMkclZf8RD"
      },
      "source": [
        ""
      ],
      "execution_count": null,
      "outputs": []
    }
  ]
}